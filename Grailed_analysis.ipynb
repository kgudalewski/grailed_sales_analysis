{
  "nbformat": 4,
  "nbformat_minor": 0,
  "metadata": {
    "colab": {
      "provenance": [],
      "authorship_tag": "ABX9TyNSgBFMPG+f2uf+d8a3I4W9",
      "include_colab_link": true
    },
    "kernelspec": {
      "name": "python3",
      "display_name": "Python 3"
    },
    "language_info": {
      "name": "python"
    }
  },
  "cells": [
    {
      "cell_type": "markdown",
      "metadata": {
        "id": "view-in-github",
        "colab_type": "text"
      },
      "source": [
        "<a href=\"https://colab.research.google.com/github/kgudalewski/grailed_sales_analysis/blob/main/Grailed_analysis.ipynb\" target=\"_parent\"><img src=\"https://colab.research.google.com/assets/colab-badge.svg\" alt=\"Open In Colab\"/></a>"
      ]
    },
    {
      "cell_type": "code",
      "execution_count": 196,
      "metadata": {
        "id": "gpKr-Mqn7_VF"
      },
      "outputs": [],
      "source": [
        "import pandas as pd\n",
        "import numpy as np"
      ]
    },
    {
      "cell_type": "code",
      "source": [
        "df_bmw = pd.read_csv(\"https://raw.githubusercontent.com/kgudalewski/grailed_sales_analysis/main/bmw.csv\", encoding=\"utf-16\")\n",
        "df_budweiser = pd.read_csv(\"https://raw.githubusercontent.com/kgudalewski/grailed_sales_analysis/main/budweiser.csv\", encoding = \"utf-16\")\n",
        "df_corvette = pd.read_csv(\"https://raw.githubusercontent.com/kgudalewski/grailed_sales_analysis/main/corvette.csv\",encoding=\"utf-16\")\n",
        "df_ferrari = pd.read_csv(\"https://raw.githubusercontent.com/kgudalewski/grailed_sales_analysis/main/ferrari.csv\",encoding=\"utf-16\")\n",
        "df_formula_uno = pd.read_csv(\"https://raw.githubusercontent.com/kgudalewski/grailed_sales_analysis/main/formula_uno.csv\",encoding=\"utf-16\")\n",
        "df_honda = pd.read_csv(\"https://raw.githubusercontent.com/kgudalewski/grailed_sales_analysis/main/honda.csv\",encoding=\"utf-16\")\n",
        "df_lucky_strike = pd.read_csv(\"https://raw.githubusercontent.com/kgudalewski/grailed_sales_analysis/main/lucky_strike.csv\",encoding=\"utf-16\")\n",
        "df_marlboro = pd.read_csv(\"https://raw.githubusercontent.com/kgudalewski/grailed_sales_analysis/main/marlboro.csv\",encoding=\"utf-16\")\n",
        "df_mercedes = pd.read_csv(\"https://raw.githubusercontent.com/kgudalewski/grailed_sales_analysis/main/mercedes.csv\",encoding=\"utf-16\")\n",
        "df_moto = pd.read_csv(\"https://raw.githubusercontent.com/kgudalewski/grailed_sales_analysis/main/moto.csv\",encoding=\"utf-16\")\n",
        "df_nascar = pd.read_csv(\"https://raw.githubusercontent.com/kgudalewski/grailed_sales_analysis/main/nascar.csv\",encoding=\"utf-16\")\n",
        "df_redbull = pd.read_csv(\"https://raw.githubusercontent.com/kgudalewski/grailed_sales_analysis/main/redbull.csv\",encoding=\"utf-16\")"
      ],
      "metadata": {
        "id": "EmBSyxfE8TX-"
      },
      "execution_count": 197,
      "outputs": []
    },
    {
      "cell_type": "code",
      "source": [
        "frames = [df_bmw, df_budweiser, df_corvette, df_ferrari, df_formula_uno, df_honda, df_lucky_strike, df_marlboro, df_mercedes, df_moto, df_nascar, df_redbull]\n",
        "df = pd.concat(frames)"
      ],
      "metadata": {
        "id": "pjm2iIpFmDnp"
      },
      "execution_count": 198,
      "outputs": []
    },
    {
      "cell_type": "code",
      "source": [
        "df.drop(columns=[\"Unnamed: 0\"],inplace=True)"
      ],
      "metadata": {
        "id": "2kjnLaC-m3V2"
      },
      "execution_count": 199,
      "outputs": []
    },
    {
      "cell_type": "code",
      "source": [
        "df.head()"
      ],
      "metadata": {
        "colab": {
          "base_uri": "https://localhost:8080/",
          "height": 476
        },
        "id": "_BvFNqN5xUbh",
        "outputId": "7f65d803-8f42-449f-9956-428aab9e5332"
      },
      "execution_count": 200,
      "outputs": [
        {
          "output_type": "execute_result",
          "data": {
            "text/plain": [
              "                                               title  \\\n",
              "0                 BMW racing rare archive bomber 90s   \n",
              "1           Mens Bomber Jacket Racing BMW F1 Size XL   \n",
              "2            Motorsport Bomber Jacket Yamaha BMW PGA   \n",
              "3                                     BMW E36 Jacket   \n",
              "4  Vintage BMW Racing Jacket Williams F1 Team Hoo...   \n",
              "\n",
              "                                                link  \\\n",
              "0  https://www.grailed.com/listings/33705557-bmw-...   \n",
              "1  https://www.grailed.com/listings/32948063-bmw-...   \n",
              "2  https://www.grailed.com/listings/15194215-bmw-...   \n",
              "3  https://www.grailed.com/listings/42982572-bmw-...   \n",
              "4  https://www.grailed.com/listings/42929894-bmw-...   \n",
              "\n",
              "                          size    condition       color     seller_name  \\\n",
              "0    Men's / US XS / EU 42 / 0         Used       Black    Humanraceeei   \n",
              "1    Men's / US XL / EU 56 / 4         Used        Blue  Casual_VntShop   \n",
              "2  Men's / US M / EU 48-50 / 2          NaN         NaN             NaN   \n",
              "3  Men's / US M / EU 48-50 / 2  Gently Used        Blue      beaubier32   \n",
              "4    Men's / US XL / EU 56 / 4  Gently Used  Blue white        DealHand   \n",
              "\n",
              "                      designers  \\\n",
              "0    Bmw × Formula Uno × Racing   \n",
              "1        Bmw × Racing × Vintage   \n",
              "2  Bmw × Bomber Jacket × Yamaha   \n",
              "3                           Bmw   \n",
              "4   Bmw × Formula Uno × Vintage   \n",
              "\n",
              "                                         description  num_of_photos  \\\n",
              "0                          bargaining is appropriate              2   \n",
              "1  Please see all photos\\nBMW\\nSize XL\\nGood Vint...              9   \n",
              "2  Posted in Core almost 3 years ago, Bumped 6 mo...              8   \n",
              "3  BMW E36 Jacket\\nFits like mens size medium\\nVe...              5   \n",
              "4  BMW Racing Jacket F1 Team\\n2003 s Vintage Mode...             16   \n",
              "\n",
              "   num_of_tags  measurements location  shipping_price price sold_price  \n",
              "0            0             0   Europe           10.00   $28        NaN  \n",
              "1            0             1   Europe           21.43   $45        NaN  \n",
              "2            0             0      NaN             NaN   $50        NaN  \n",
              "3            0             0       US             NaN   $35        NaN  \n",
              "4           10             1   Europe             NaN   $50        NaN  "
            ],
            "text/html": [
              "\n",
              "  <div id=\"df-c82f80fc-8944-4b1f-a78a-18ac5d45ef4e\">\n",
              "    <div class=\"colab-df-container\">\n",
              "      <div>\n",
              "<style scoped>\n",
              "    .dataframe tbody tr th:only-of-type {\n",
              "        vertical-align: middle;\n",
              "    }\n",
              "\n",
              "    .dataframe tbody tr th {\n",
              "        vertical-align: top;\n",
              "    }\n",
              "\n",
              "    .dataframe thead th {\n",
              "        text-align: right;\n",
              "    }\n",
              "</style>\n",
              "<table border=\"1\" class=\"dataframe\">\n",
              "  <thead>\n",
              "    <tr style=\"text-align: right;\">\n",
              "      <th></th>\n",
              "      <th>title</th>\n",
              "      <th>link</th>\n",
              "      <th>size</th>\n",
              "      <th>condition</th>\n",
              "      <th>color</th>\n",
              "      <th>seller_name</th>\n",
              "      <th>designers</th>\n",
              "      <th>description</th>\n",
              "      <th>num_of_photos</th>\n",
              "      <th>num_of_tags</th>\n",
              "      <th>measurements</th>\n",
              "      <th>location</th>\n",
              "      <th>shipping_price</th>\n",
              "      <th>price</th>\n",
              "      <th>sold_price</th>\n",
              "    </tr>\n",
              "  </thead>\n",
              "  <tbody>\n",
              "    <tr>\n",
              "      <th>0</th>\n",
              "      <td>BMW racing rare archive bomber 90s</td>\n",
              "      <td>https://www.grailed.com/listings/33705557-bmw-...</td>\n",
              "      <td>Men's / US XS / EU 42 / 0</td>\n",
              "      <td>Used</td>\n",
              "      <td>Black</td>\n",
              "      <td>Humanraceeei</td>\n",
              "      <td>Bmw × Formula Uno × Racing</td>\n",
              "      <td>bargaining is appropriate</td>\n",
              "      <td>2</td>\n",
              "      <td>0</td>\n",
              "      <td>0</td>\n",
              "      <td>Europe</td>\n",
              "      <td>10.00</td>\n",
              "      <td>$28</td>\n",
              "      <td>NaN</td>\n",
              "    </tr>\n",
              "    <tr>\n",
              "      <th>1</th>\n",
              "      <td>Mens Bomber Jacket Racing BMW F1 Size XL</td>\n",
              "      <td>https://www.grailed.com/listings/32948063-bmw-...</td>\n",
              "      <td>Men's / US XL / EU 56 / 4</td>\n",
              "      <td>Used</td>\n",
              "      <td>Blue</td>\n",
              "      <td>Casual_VntShop</td>\n",
              "      <td>Bmw × Racing × Vintage</td>\n",
              "      <td>Please see all photos\\nBMW\\nSize XL\\nGood Vint...</td>\n",
              "      <td>9</td>\n",
              "      <td>0</td>\n",
              "      <td>1</td>\n",
              "      <td>Europe</td>\n",
              "      <td>21.43</td>\n",
              "      <td>$45</td>\n",
              "      <td>NaN</td>\n",
              "    </tr>\n",
              "    <tr>\n",
              "      <th>2</th>\n",
              "      <td>Motorsport Bomber Jacket Yamaha BMW PGA</td>\n",
              "      <td>https://www.grailed.com/listings/15194215-bmw-...</td>\n",
              "      <td>Men's / US M / EU 48-50 / 2</td>\n",
              "      <td>NaN</td>\n",
              "      <td>NaN</td>\n",
              "      <td>NaN</td>\n",
              "      <td>Bmw × Bomber Jacket × Yamaha</td>\n",
              "      <td>Posted in Core almost 3 years ago, Bumped 6 mo...</td>\n",
              "      <td>8</td>\n",
              "      <td>0</td>\n",
              "      <td>0</td>\n",
              "      <td>NaN</td>\n",
              "      <td>NaN</td>\n",
              "      <td>$50</td>\n",
              "      <td>NaN</td>\n",
              "    </tr>\n",
              "    <tr>\n",
              "      <th>3</th>\n",
              "      <td>BMW E36 Jacket</td>\n",
              "      <td>https://www.grailed.com/listings/42982572-bmw-...</td>\n",
              "      <td>Men's / US M / EU 48-50 / 2</td>\n",
              "      <td>Gently Used</td>\n",
              "      <td>Blue</td>\n",
              "      <td>beaubier32</td>\n",
              "      <td>Bmw</td>\n",
              "      <td>BMW E36 Jacket\\nFits like mens size medium\\nVe...</td>\n",
              "      <td>5</td>\n",
              "      <td>0</td>\n",
              "      <td>0</td>\n",
              "      <td>US</td>\n",
              "      <td>NaN</td>\n",
              "      <td>$35</td>\n",
              "      <td>NaN</td>\n",
              "    </tr>\n",
              "    <tr>\n",
              "      <th>4</th>\n",
              "      <td>Vintage BMW Racing Jacket Williams F1 Team Hoo...</td>\n",
              "      <td>https://www.grailed.com/listings/42929894-bmw-...</td>\n",
              "      <td>Men's / US XL / EU 56 / 4</td>\n",
              "      <td>Gently Used</td>\n",
              "      <td>Blue white</td>\n",
              "      <td>DealHand</td>\n",
              "      <td>Bmw × Formula Uno × Vintage</td>\n",
              "      <td>BMW Racing Jacket F1 Team\\n2003 s Vintage Mode...</td>\n",
              "      <td>16</td>\n",
              "      <td>10</td>\n",
              "      <td>1</td>\n",
              "      <td>Europe</td>\n",
              "      <td>NaN</td>\n",
              "      <td>$50</td>\n",
              "      <td>NaN</td>\n",
              "    </tr>\n",
              "  </tbody>\n",
              "</table>\n",
              "</div>\n",
              "      <button class=\"colab-df-convert\" onclick=\"convertToInteractive('df-c82f80fc-8944-4b1f-a78a-18ac5d45ef4e')\"\n",
              "              title=\"Convert this dataframe to an interactive table.\"\n",
              "              style=\"display:none;\">\n",
              "        \n",
              "  <svg xmlns=\"http://www.w3.org/2000/svg\" height=\"24px\"viewBox=\"0 0 24 24\"\n",
              "       width=\"24px\">\n",
              "    <path d=\"M0 0h24v24H0V0z\" fill=\"none\"/>\n",
              "    <path d=\"M18.56 5.44l.94 2.06.94-2.06 2.06-.94-2.06-.94-.94-2.06-.94 2.06-2.06.94zm-11 1L8.5 8.5l.94-2.06 2.06-.94-2.06-.94L8.5 2.5l-.94 2.06-2.06.94zm10 10l.94 2.06.94-2.06 2.06-.94-2.06-.94-.94-2.06-.94 2.06-2.06.94z\"/><path d=\"M17.41 7.96l-1.37-1.37c-.4-.4-.92-.59-1.43-.59-.52 0-1.04.2-1.43.59L10.3 9.45l-7.72 7.72c-.78.78-.78 2.05 0 2.83L4 21.41c.39.39.9.59 1.41.59.51 0 1.02-.2 1.41-.59l7.78-7.78 2.81-2.81c.8-.78.8-2.07 0-2.86zM5.41 20L4 18.59l7.72-7.72 1.47 1.35L5.41 20z\"/>\n",
              "  </svg>\n",
              "      </button>\n",
              "      \n",
              "  <style>\n",
              "    .colab-df-container {\n",
              "      display:flex;\n",
              "      flex-wrap:wrap;\n",
              "      gap: 12px;\n",
              "    }\n",
              "\n",
              "    .colab-df-convert {\n",
              "      background-color: #E8F0FE;\n",
              "      border: none;\n",
              "      border-radius: 50%;\n",
              "      cursor: pointer;\n",
              "      display: none;\n",
              "      fill: #1967D2;\n",
              "      height: 32px;\n",
              "      padding: 0 0 0 0;\n",
              "      width: 32px;\n",
              "    }\n",
              "\n",
              "    .colab-df-convert:hover {\n",
              "      background-color: #E2EBFA;\n",
              "      box-shadow: 0px 1px 2px rgba(60, 64, 67, 0.3), 0px 1px 3px 1px rgba(60, 64, 67, 0.15);\n",
              "      fill: #174EA6;\n",
              "    }\n",
              "\n",
              "    [theme=dark] .colab-df-convert {\n",
              "      background-color: #3B4455;\n",
              "      fill: #D2E3FC;\n",
              "    }\n",
              "\n",
              "    [theme=dark] .colab-df-convert:hover {\n",
              "      background-color: #434B5C;\n",
              "      box-shadow: 0px 1px 3px 1px rgba(0, 0, 0, 0.15);\n",
              "      filter: drop-shadow(0px 1px 2px rgba(0, 0, 0, 0.3));\n",
              "      fill: #FFFFFF;\n",
              "    }\n",
              "  </style>\n",
              "\n",
              "      <script>\n",
              "        const buttonEl =\n",
              "          document.querySelector('#df-c82f80fc-8944-4b1f-a78a-18ac5d45ef4e button.colab-df-convert');\n",
              "        buttonEl.style.display =\n",
              "          google.colab.kernel.accessAllowed ? 'block' : 'none';\n",
              "\n",
              "        async function convertToInteractive(key) {\n",
              "          const element = document.querySelector('#df-c82f80fc-8944-4b1f-a78a-18ac5d45ef4e');\n",
              "          const dataTable =\n",
              "            await google.colab.kernel.invokeFunction('convertToInteractive',\n",
              "                                                     [key], {});\n",
              "          if (!dataTable) return;\n",
              "\n",
              "          const docLinkHtml = 'Like what you see? Visit the ' +\n",
              "            '<a target=\"_blank\" href=https://colab.research.google.com/notebooks/data_table.ipynb>data table notebook</a>'\n",
              "            + ' to learn more about interactive tables.';\n",
              "          element.innerHTML = '';\n",
              "          dataTable['output_type'] = 'display_data';\n",
              "          await google.colab.output.renderOutput(dataTable, element);\n",
              "          const docLink = document.createElement('div');\n",
              "          docLink.innerHTML = docLinkHtml;\n",
              "          element.appendChild(docLink);\n",
              "        }\n",
              "      </script>\n",
              "    </div>\n",
              "  </div>\n",
              "  "
            ]
          },
          "metadata": {},
          "execution_count": 200
        }
      ]
    },
    {
      "cell_type": "code",
      "source": [
        "df.info()"
      ],
      "metadata": {
        "colab": {
          "base_uri": "https://localhost:8080/"
        },
        "id": "XFHKVkk1xi6R",
        "outputId": "1c46d0f9-ef63-4fd8-be89-3645407f5fc2"
      },
      "execution_count": 201,
      "outputs": [
        {
          "output_type": "stream",
          "name": "stdout",
          "text": [
            "<class 'pandas.core.frame.DataFrame'>\n",
            "Int64Index: 19805 entries, 0 to 583\n",
            "Data columns (total 15 columns):\n",
            " #   Column          Non-Null Count  Dtype  \n",
            "---  ------          --------------  -----  \n",
            " 0   title           19794 non-null  object \n",
            " 1   link            19805 non-null  object \n",
            " 2   size            19794 non-null  object \n",
            " 3   condition       19542 non-null  object \n",
            " 4   color           19577 non-null  object \n",
            " 5   seller_name     19571 non-null  object \n",
            " 6   designers       19794 non-null  object \n",
            " 7   description     19707 non-null  object \n",
            " 8   num_of_photos   19805 non-null  int64  \n",
            " 9   num_of_tags     19805 non-null  int64  \n",
            " 10  measurements    19805 non-null  int64  \n",
            " 11  location        8412 non-null   object \n",
            " 12  shipping_price  6837 non-null   float64\n",
            " 13  price           11057 non-null  object \n",
            " 14  sold_price      8737 non-null   object \n",
            "dtypes: float64(1), int64(3), object(11)\n",
            "memory usage: 2.4+ MB\n"
          ]
        }
      ]
    },
    {
      "cell_type": "code",
      "source": [
        "df.columns"
      ],
      "metadata": {
        "colab": {
          "base_uri": "https://localhost:8080/"
        },
        "id": "tCgvZSc_xuQp",
        "outputId": "80da0486-a15e-44ed-c940-7bf5b3b8bed7"
      },
      "execution_count": 202,
      "outputs": [
        {
          "output_type": "execute_result",
          "data": {
            "text/plain": [
              "Index(['title', 'link', 'size', 'condition', 'color', 'seller_name',\n",
              "       'designers', 'description', 'num_of_photos', 'num_of_tags',\n",
              "       'measurements', 'location', 'shipping_price', 'price', 'sold_price'],\n",
              "      dtype='object')"
            ]
          },
          "metadata": {},
          "execution_count": 202
        }
      ]
    },
    {
      "cell_type": "code",
      "source": [
        "df = df.drop_duplicates(subset=['title', 'size', 'condition', 'color', 'seller_name',\n",
        "       'designers', 'description', 'num_of_photos', 'num_of_tags',\n",
        "       'measurements', 'location', 'shipping_price', 'price', 'sold_price']).reset_index(drop=True)\n",
        "df = df.dropna(subset=[\"condition\",\"color\",\"seller_name\",\"description\"])"
      ],
      "metadata": {
        "id": "_d7HyzISxw7B"
      },
      "execution_count": 203,
      "outputs": []
    },
    {
      "cell_type": "code",
      "source": [
        "df.info()"
      ],
      "metadata": {
        "colab": {
          "base_uri": "https://localhost:8080/"
        },
        "id": "sncB6pBNz3ln",
        "outputId": "0b74424a-655e-40f8-c760-9d4d0d3890a9"
      },
      "execution_count": 204,
      "outputs": [
        {
          "output_type": "stream",
          "name": "stdout",
          "text": [
            "<class 'pandas.core.frame.DataFrame'>\n",
            "Int64Index: 15510 entries, 0 to 15747\n",
            "Data columns (total 15 columns):\n",
            " #   Column          Non-Null Count  Dtype  \n",
            "---  ------          --------------  -----  \n",
            " 0   title           15510 non-null  object \n",
            " 1   link            15510 non-null  object \n",
            " 2   size            15510 non-null  object \n",
            " 3   condition       15510 non-null  object \n",
            " 4   color           15510 non-null  object \n",
            " 5   seller_name     15510 non-null  object \n",
            " 6   designers       15510 non-null  object \n",
            " 7   description     15510 non-null  object \n",
            " 8   num_of_photos   15510 non-null  int64  \n",
            " 9   num_of_tags     15510 non-null  int64  \n",
            " 10  measurements    15510 non-null  int64  \n",
            " 11  location        6567 non-null   object \n",
            " 12  shipping_price  5350 non-null   float64\n",
            " 13  price           8630 non-null   object \n",
            " 14  sold_price      6880 non-null   object \n",
            "dtypes: float64(1), int64(3), object(11)\n",
            "memory usage: 1.9+ MB\n"
          ]
        }
      ]
    },
    {
      "cell_type": "code",
      "source": [
        "df.location.value_counts()"
      ],
      "metadata": {
        "colab": {
          "base_uri": "https://localhost:8080/"
        },
        "id": "H1OhGiPH08Wd",
        "outputId": "c9f7e52f-62fa-40c6-dc4d-72f23fdfb134"
      },
      "execution_count": 205,
      "outputs": [
        {
          "output_type": "execute_result",
          "data": {
            "text/plain": [
              "Europe      2743\n",
              "Asia        2058\n",
              "US           910\n",
              "Other        676\n",
              "Canada       135\n",
              "shipping      37\n",
              "UK             6\n",
              "AU             2\n",
              "Name: location, dtype: int64"
            ]
          },
          "metadata": {},
          "execution_count": 205
        }
      ]
    },
    {
      "cell_type": "code",
      "source": [
        "df.loc[df.location == \"shipping\"].head()"
      ],
      "metadata": {
        "colab": {
          "base_uri": "https://localhost:8080/",
          "height": 669
        },
        "id": "IeJ8O0QMz3oD",
        "outputId": "073a4524-1bf1-42ea-ebf1-4a964c44d802"
      },
      "execution_count": 206,
      "outputs": [
        {
          "output_type": "execute_result",
          "data": {
            "text/plain": [
              "                                                  title  \\\n",
              "122                                  BMW M sport jacket   \n",
              "216      🔥 BMW Motorcycles Protective Wear & Rain Gear🔥   \n",
              "287   BMW RACING LEATHER JACKET MICHELIN GOODYEAR LA...   \n",
              "1121        Honda Onwards x Budweiser Racing Team Japan   \n",
              "1415  Ferrari Mens Size XS Black Zip Up Collared Tra...   \n",
              "\n",
              "                                                   link  \\\n",
              "122   https://www.grailed.com/listings/40276682-bmw-...   \n",
              "216   https://www.grailed.com/listings/42389714-bmw-...   \n",
              "287   https://www.grailed.com/listings/42254825-bmw-...   \n",
              "1121  https://www.grailed.com/listings/36596568-budw...   \n",
              "1415  https://www.grailed.com/listings/42641180-ferr...   \n",
              "\n",
              "                             size    condition       color       seller_name  \\\n",
              "122     Men's / US XL / EU 56 / 4  Gently Used       Black      dhirenkakkar   \n",
              "216     Men's / US XL / EU 56 / 4         Used  Black blue        AAAABUNDLE   \n",
              "287   Men's / US M / EU 48-50 / 2         Used        Blue        emanyapobi   \n",
              "1121  Men's / US L / EU 52-54 / 3  Gently Used         Red  BlackBrandedShop   \n",
              "1415    Men's / US XS / EU 42 / 0         Used       White          bwichezz   \n",
              "\n",
              "                       designers  \\\n",
              "122       Bmw × Racing × Vintage   \n",
              "216                          Bmw   \n",
              "287                Bmw × Vintage   \n",
              "1121  Budweiser × Honda × Racing   \n",
              "1415                     Ferrari   \n",
              "\n",
              "                                            description  num_of_photos  \\\n",
              "122   #VINTAGE\\n#JACKET\\n#SPRING\\n#BLACK\\n#SPORT\\n#W...              9   \n",
              "216   🔥 FINAL DROP 🔥 FINAL DROP 🔥\\nTHANK YOU VERY MU...              6   \n",
              "287                          Posted in Core 19 days ago              2   \n",
              "1121  Condition : Very Good Condition (9.5/10)\\nMate...             13   \n",
              "1415                                      #XS\\n#FERRARI              4   \n",
              "\n",
              "      num_of_tags  measurements  location  shipping_price price sold_price  \n",
              "122             0             0  shipping             NaN   $90        NaN  \n",
              "216             0             0  shipping             NaN  $121        NaN  \n",
              "287             0             0  shipping             NaN  $180        NaN  \n",
              "1121            5             1  shipping             NaN  $232        NaN  \n",
              "1415            0             0  shipping             NaN   $20        NaN  "
            ],
            "text/html": [
              "\n",
              "  <div id=\"df-e70150b5-3baa-4bb8-aad0-d37e43baae16\">\n",
              "    <div class=\"colab-df-container\">\n",
              "      <div>\n",
              "<style scoped>\n",
              "    .dataframe tbody tr th:only-of-type {\n",
              "        vertical-align: middle;\n",
              "    }\n",
              "\n",
              "    .dataframe tbody tr th {\n",
              "        vertical-align: top;\n",
              "    }\n",
              "\n",
              "    .dataframe thead th {\n",
              "        text-align: right;\n",
              "    }\n",
              "</style>\n",
              "<table border=\"1\" class=\"dataframe\">\n",
              "  <thead>\n",
              "    <tr style=\"text-align: right;\">\n",
              "      <th></th>\n",
              "      <th>title</th>\n",
              "      <th>link</th>\n",
              "      <th>size</th>\n",
              "      <th>condition</th>\n",
              "      <th>color</th>\n",
              "      <th>seller_name</th>\n",
              "      <th>designers</th>\n",
              "      <th>description</th>\n",
              "      <th>num_of_photos</th>\n",
              "      <th>num_of_tags</th>\n",
              "      <th>measurements</th>\n",
              "      <th>location</th>\n",
              "      <th>shipping_price</th>\n",
              "      <th>price</th>\n",
              "      <th>sold_price</th>\n",
              "    </tr>\n",
              "  </thead>\n",
              "  <tbody>\n",
              "    <tr>\n",
              "      <th>122</th>\n",
              "      <td>BMW M sport jacket</td>\n",
              "      <td>https://www.grailed.com/listings/40276682-bmw-...</td>\n",
              "      <td>Men's / US XL / EU 56 / 4</td>\n",
              "      <td>Gently Used</td>\n",
              "      <td>Black</td>\n",
              "      <td>dhirenkakkar</td>\n",
              "      <td>Bmw × Racing × Vintage</td>\n",
              "      <td>#VINTAGE\\n#JACKET\\n#SPRING\\n#BLACK\\n#SPORT\\n#W...</td>\n",
              "      <td>9</td>\n",
              "      <td>0</td>\n",
              "      <td>0</td>\n",
              "      <td>shipping</td>\n",
              "      <td>NaN</td>\n",
              "      <td>$90</td>\n",
              "      <td>NaN</td>\n",
              "    </tr>\n",
              "    <tr>\n",
              "      <th>216</th>\n",
              "      <td>🔥 BMW Motorcycles Protective Wear &amp; Rain Gear🔥</td>\n",
              "      <td>https://www.grailed.com/listings/42389714-bmw-...</td>\n",
              "      <td>Men's / US XL / EU 56 / 4</td>\n",
              "      <td>Used</td>\n",
              "      <td>Black blue</td>\n",
              "      <td>AAAABUNDLE</td>\n",
              "      <td>Bmw</td>\n",
              "      <td>🔥 FINAL DROP 🔥 FINAL DROP 🔥\\nTHANK YOU VERY MU...</td>\n",
              "      <td>6</td>\n",
              "      <td>0</td>\n",
              "      <td>0</td>\n",
              "      <td>shipping</td>\n",
              "      <td>NaN</td>\n",
              "      <td>$121</td>\n",
              "      <td>NaN</td>\n",
              "    </tr>\n",
              "    <tr>\n",
              "      <th>287</th>\n",
              "      <td>BMW RACING LEATHER JACKET MICHELIN GOODYEAR LA...</td>\n",
              "      <td>https://www.grailed.com/listings/42254825-bmw-...</td>\n",
              "      <td>Men's / US M / EU 48-50 / 2</td>\n",
              "      <td>Used</td>\n",
              "      <td>Blue</td>\n",
              "      <td>emanyapobi</td>\n",
              "      <td>Bmw × Vintage</td>\n",
              "      <td>Posted in Core 19 days ago</td>\n",
              "      <td>2</td>\n",
              "      <td>0</td>\n",
              "      <td>0</td>\n",
              "      <td>shipping</td>\n",
              "      <td>NaN</td>\n",
              "      <td>$180</td>\n",
              "      <td>NaN</td>\n",
              "    </tr>\n",
              "    <tr>\n",
              "      <th>1121</th>\n",
              "      <td>Honda Onwards x Budweiser Racing Team Japan</td>\n",
              "      <td>https://www.grailed.com/listings/36596568-budw...</td>\n",
              "      <td>Men's / US L / EU 52-54 / 3</td>\n",
              "      <td>Gently Used</td>\n",
              "      <td>Red</td>\n",
              "      <td>BlackBrandedShop</td>\n",
              "      <td>Budweiser × Honda × Racing</td>\n",
              "      <td>Condition : Very Good Condition (9.5/10)\\nMate...</td>\n",
              "      <td>13</td>\n",
              "      <td>5</td>\n",
              "      <td>1</td>\n",
              "      <td>shipping</td>\n",
              "      <td>NaN</td>\n",
              "      <td>$232</td>\n",
              "      <td>NaN</td>\n",
              "    </tr>\n",
              "    <tr>\n",
              "      <th>1415</th>\n",
              "      <td>Ferrari Mens Size XS Black Zip Up Collared Tra...</td>\n",
              "      <td>https://www.grailed.com/listings/42641180-ferr...</td>\n",
              "      <td>Men's / US XS / EU 42 / 0</td>\n",
              "      <td>Used</td>\n",
              "      <td>White</td>\n",
              "      <td>bwichezz</td>\n",
              "      <td>Ferrari</td>\n",
              "      <td>#XS\\n#FERRARI</td>\n",
              "      <td>4</td>\n",
              "      <td>0</td>\n",
              "      <td>0</td>\n",
              "      <td>shipping</td>\n",
              "      <td>NaN</td>\n",
              "      <td>$20</td>\n",
              "      <td>NaN</td>\n",
              "    </tr>\n",
              "  </tbody>\n",
              "</table>\n",
              "</div>\n",
              "      <button class=\"colab-df-convert\" onclick=\"convertToInteractive('df-e70150b5-3baa-4bb8-aad0-d37e43baae16')\"\n",
              "              title=\"Convert this dataframe to an interactive table.\"\n",
              "              style=\"display:none;\">\n",
              "        \n",
              "  <svg xmlns=\"http://www.w3.org/2000/svg\" height=\"24px\"viewBox=\"0 0 24 24\"\n",
              "       width=\"24px\">\n",
              "    <path d=\"M0 0h24v24H0V0z\" fill=\"none\"/>\n",
              "    <path d=\"M18.56 5.44l.94 2.06.94-2.06 2.06-.94-2.06-.94-.94-2.06-.94 2.06-2.06.94zm-11 1L8.5 8.5l.94-2.06 2.06-.94-2.06-.94L8.5 2.5l-.94 2.06-2.06.94zm10 10l.94 2.06.94-2.06 2.06-.94-2.06-.94-.94-2.06-.94 2.06-2.06.94z\"/><path d=\"M17.41 7.96l-1.37-1.37c-.4-.4-.92-.59-1.43-.59-.52 0-1.04.2-1.43.59L10.3 9.45l-7.72 7.72c-.78.78-.78 2.05 0 2.83L4 21.41c.39.39.9.59 1.41.59.51 0 1.02-.2 1.41-.59l7.78-7.78 2.81-2.81c.8-.78.8-2.07 0-2.86zM5.41 20L4 18.59l7.72-7.72 1.47 1.35L5.41 20z\"/>\n",
              "  </svg>\n",
              "      </button>\n",
              "      \n",
              "  <style>\n",
              "    .colab-df-container {\n",
              "      display:flex;\n",
              "      flex-wrap:wrap;\n",
              "      gap: 12px;\n",
              "    }\n",
              "\n",
              "    .colab-df-convert {\n",
              "      background-color: #E8F0FE;\n",
              "      border: none;\n",
              "      border-radius: 50%;\n",
              "      cursor: pointer;\n",
              "      display: none;\n",
              "      fill: #1967D2;\n",
              "      height: 32px;\n",
              "      padding: 0 0 0 0;\n",
              "      width: 32px;\n",
              "    }\n",
              "\n",
              "    .colab-df-convert:hover {\n",
              "      background-color: #E2EBFA;\n",
              "      box-shadow: 0px 1px 2px rgba(60, 64, 67, 0.3), 0px 1px 3px 1px rgba(60, 64, 67, 0.15);\n",
              "      fill: #174EA6;\n",
              "    }\n",
              "\n",
              "    [theme=dark] .colab-df-convert {\n",
              "      background-color: #3B4455;\n",
              "      fill: #D2E3FC;\n",
              "    }\n",
              "\n",
              "    [theme=dark] .colab-df-convert:hover {\n",
              "      background-color: #434B5C;\n",
              "      box-shadow: 0px 1px 3px 1px rgba(0, 0, 0, 0.15);\n",
              "      filter: drop-shadow(0px 1px 2px rgba(0, 0, 0, 0.3));\n",
              "      fill: #FFFFFF;\n",
              "    }\n",
              "  </style>\n",
              "\n",
              "      <script>\n",
              "        const buttonEl =\n",
              "          document.querySelector('#df-e70150b5-3baa-4bb8-aad0-d37e43baae16 button.colab-df-convert');\n",
              "        buttonEl.style.display =\n",
              "          google.colab.kernel.accessAllowed ? 'block' : 'none';\n",
              "\n",
              "        async function convertToInteractive(key) {\n",
              "          const element = document.querySelector('#df-e70150b5-3baa-4bb8-aad0-d37e43baae16');\n",
              "          const dataTable =\n",
              "            await google.colab.kernel.invokeFunction('convertToInteractive',\n",
              "                                                     [key], {});\n",
              "          if (!dataTable) return;\n",
              "\n",
              "          const docLinkHtml = 'Like what you see? Visit the ' +\n",
              "            '<a target=\"_blank\" href=https://colab.research.google.com/notebooks/data_table.ipynb>data table notebook</a>'\n",
              "            + ' to learn more about interactive tables.';\n",
              "          element.innerHTML = '';\n",
              "          dataTable['output_type'] = 'display_data';\n",
              "          await google.colab.output.renderOutput(dataTable, element);\n",
              "          const docLink = document.createElement('div');\n",
              "          docLink.innerHTML = docLinkHtml;\n",
              "          element.appendChild(docLink);\n",
              "        }\n",
              "      </script>\n",
              "    </div>\n",
              "  </div>\n",
              "  "
            ]
          },
          "metadata": {},
          "execution_count": 206
        }
      ]
    },
    {
      "cell_type": "code",
      "source": [
        "list_of_links_to_set_loc = list(df.loc[df.location == \"shipping\"].link.values)"
      ],
      "metadata": {
        "id": "8BVt9NwJz3rk"
      },
      "execution_count": 207,
      "outputs": []
    },
    {
      "cell_type": "code",
      "source": [
        "list_of_links_to_set_loc"
      ],
      "metadata": {
        "id": "xSl8SypLz8IY"
      },
      "execution_count": null,
      "outputs": []
    },
    {
      "cell_type": "code",
      "source": [
        "list_of_locations_to_complete = ['Canada', 'Asia', 'UK', 'Asia', 'US', 'Canada', 'US', 'US', 'US', 'Europe', 'US', 'US', 'US', 'US', 'Canada', 'Asia', 'US', 'Asia', 'US', 'US', 'Asia', 'Canada', None, 'Canada', 'Asia', 'Asia', 'Asia', 'Asia', 'Asia', 'Other', 'Europe', 'Canada', 'US', 'UK', 'US', 'Canada', 'AU']"
      ],
      "metadata": {
        "id": "Rt25S5SaFpUp"
      },
      "execution_count": null,
      "outputs": []
    },
    {
      "cell_type": "code",
      "source": [
        "indexes = df.loc[df.location == \"shipping\"].index.to_list()"
      ],
      "metadata": {
        "id": "Bm-8wAvOz8PT"
      },
      "execution_count": 231,
      "outputs": []
    },
    {
      "cell_type": "code",
      "source": [
        "new_column = pd.Series(list_of_locations_to_complete, name='location', index=indexes)"
      ],
      "metadata": {
        "id": "c7c5Y1MFGaqk"
      },
      "execution_count": 232,
      "outputs": []
    },
    {
      "cell_type": "code",
      "source": [
        "df.update(new_column)"
      ],
      "metadata": {
        "id": "bKxxUW0RGazH"
      },
      "execution_count": 233,
      "outputs": []
    },
    {
      "cell_type": "code",
      "source": [
        "df.location.value_counts()"
      ],
      "metadata": {
        "colab": {
          "base_uri": "https://localhost:8080/"
        },
        "id": "4OiABU3HFe_J",
        "outputId": "0b3a5ba9-5ad2-4420-dc98-ca4e0c8558d5"
      },
      "execution_count": 234,
      "outputs": [
        {
          "output_type": "execute_result",
          "data": {
            "text/plain": [
              "Europe      2745\n",
              "Asia        2068\n",
              "US           923\n",
              "Other        677\n",
              "Canada       142\n",
              "UK             8\n",
              "AU             3\n",
              "shipping       1\n",
              "Name: location, dtype: int64"
            ]
          },
          "metadata": {},
          "execution_count": 234
        }
      ]
    },
    {
      "cell_type": "code",
      "source": [
        "df = df.drop(df.loc[df.location == \"shipping\"].index.to_list()).reset_index(drop=True)"
      ],
      "metadata": {
        "id": "nRqg2U1bF9VA"
      },
      "execution_count": 240,
      "outputs": []
    },
    {
      "cell_type": "code",
      "source": [
        "df.location.value_counts()"
      ],
      "metadata": {
        "colab": {
          "base_uri": "https://localhost:8080/"
        },
        "id": "ZAgvZq7qz8TU",
        "outputId": "563f0e39-12c1-4019-e137-948607d3ffa3"
      },
      "execution_count": 241,
      "outputs": [
        {
          "output_type": "execute_result",
          "data": {
            "text/plain": [
              "Europe    2745\n",
              "Asia      2068\n",
              "US         923\n",
              "Other      677\n",
              "Canada     142\n",
              "UK           8\n",
              "AU           3\n",
              "Name: location, dtype: int64"
            ]
          },
          "metadata": {},
          "execution_count": 241
        }
      ]
    },
    {
      "cell_type": "code",
      "source": [
        "df.price = df.price.str.strip(\"$ (Sold, Price)\")\n",
        "df.sold_price = df.sold_price.str.strip(\"$\")"
      ],
      "metadata": {
        "id": "x9mfs-qnz8Wj"
      },
      "execution_count": 263,
      "outputs": []
    },
    {
      "cell_type": "code",
      "source": [
        "df = df.astype(float,errors = \"ignore\")\n",
        "df.dtypes"
      ],
      "metadata": {
        "colab": {
          "base_uri": "https://localhost:8080/"
        },
        "id": "R3U7dNwkz8Z1",
        "outputId": "8c9787fa-75ff-4d41-a998-c93d57a031e3"
      },
      "execution_count": 271,
      "outputs": [
        {
          "output_type": "execute_result",
          "data": {
            "text/plain": [
              "title              object\n",
              "link               object\n",
              "size               object\n",
              "condition          object\n",
              "color              object\n",
              "seller_name        object\n",
              "designers          object\n",
              "description        object\n",
              "num_of_photos     float64\n",
              "num_of_tags       float64\n",
              "measurements      float64\n",
              "location           object\n",
              "shipping_price    float64\n",
              "price             float64\n",
              "sold_price        float64\n",
              "dtype: object"
            ]
          },
          "metadata": {},
          "execution_count": 271
        }
      ]
    },
    {
      "cell_type": "code",
      "source": [
        "df.sold_price.mean()"
      ],
      "metadata": {
        "colab": {
          "base_uri": "https://localhost:8080/"
        },
        "id": "hatOGExsz8dQ",
        "outputId": "83dafb13-f107-4bb9-d273-42b1ddf10c31"
      },
      "execution_count": 273,
      "outputs": [
        {
          "output_type": "execute_result",
          "data": {
            "text/plain": [
              "122.7360465116279"
            ]
          },
          "metadata": {},
          "execution_count": 273
        }
      ]
    },
    {
      "cell_type": "code",
      "source": [
        "df.price.mean()"
      ],
      "metadata": {
        "colab": {
          "base_uri": "https://localhost:8080/"
        },
        "id": "Fg8xjQ-xz8go",
        "outputId": "6e4eac57-173d-465f-b7ad-8f50d626cc2a"
      },
      "execution_count": 272,
      "outputs": [
        {
          "output_type": "execute_result",
          "data": {
            "text/plain": [
              "157.5730675628694"
            ]
          },
          "metadata": {},
          "execution_count": 272
        }
      ]
    },
    {
      "cell_type": "code",
      "source": [
        "df.loc[df.seller_name == \"VintageRacingStuff\"].sold_price.mean()"
      ],
      "metadata": {
        "colab": {
          "base_uri": "https://localhost:8080/"
        },
        "id": "2927Y6nLz8kC",
        "outputId": "83c112a9-fc7e-4434-b273-e9d4c3151a5f"
      },
      "execution_count": 274,
      "outputs": [
        {
          "output_type": "execute_result",
          "data": {
            "text/plain": [
              "273.503355704698"
            ]
          },
          "metadata": {},
          "execution_count": 274
        }
      ]
    },
    {
      "cell_type": "code",
      "source": [
        "df.loc[df.seller_name == \"VintageRacingStuff\"].price.mean()"
      ],
      "metadata": {
        "colab": {
          "base_uri": "https://localhost:8080/"
        },
        "id": "pcnimHOqz8nL",
        "outputId": "908374e8-de82-4e91-92b5-7d46f4f8a83a"
      },
      "execution_count": 275,
      "outputs": [
        {
          "output_type": "execute_result",
          "data": {
            "text/plain": [
              "264.5"
            ]
          },
          "metadata": {},
          "execution_count": 275
        }
      ]
    },
    {
      "cell_type": "code",
      "source": [
        "df.to_csv(\"grailed_analysis_df.csv\",encoding=\"utf-16\")"
      ],
      "metadata": {
        "id": "RZTZNTa0z8qq"
      },
      "execution_count": 276,
      "outputs": []
    },
    {
      "cell_type": "code",
      "source": [],
      "metadata": {
        "id": "ks84xfT1z8uA"
      },
      "execution_count": null,
      "outputs": []
    },
    {
      "cell_type": "code",
      "source": [],
      "metadata": {
        "id": "OwJ_RFBJz8xc"
      },
      "execution_count": null,
      "outputs": []
    },
    {
      "cell_type": "code",
      "source": [],
      "metadata": {
        "id": "a7UvnS9xz80n"
      },
      "execution_count": null,
      "outputs": []
    },
    {
      "cell_type": "code",
      "source": [],
      "metadata": {
        "id": "a_aYcSsoz83s"
      },
      "execution_count": null,
      "outputs": []
    },
    {
      "cell_type": "code",
      "source": [],
      "metadata": {
        "id": "756KdSR4z86i"
      },
      "execution_count": null,
      "outputs": []
    },
    {
      "cell_type": "code",
      "source": [],
      "metadata": {
        "id": "HY7mKFLmz89u"
      },
      "execution_count": null,
      "outputs": []
    },
    {
      "cell_type": "code",
      "source": [
        "df.loc[df.seller_name == \"VintageRacingStuff\"].head()"
      ],
      "metadata": {
        "colab": {
          "base_uri": "https://localhost:8080/",
          "height": 528
        },
        "id": "sihHmGVlyDgh",
        "outputId": "746aa62e-5242-450f-bf7a-b11b3d181d68"
      },
      "execution_count": 81,
      "outputs": [
        {
          "output_type": "execute_result",
          "data": {
            "text/plain": [
              "                                                 title  \\\n",
              "614      🔥Vintage BMW racing light jacket / sweatshirt   \n",
              "732  🔥Vintage BMW COMPAQ racing motorcycle leather ...   \n",
              "749                 🔥Vintage BMW racing leather jacket   \n",
              "760          🔥Vintage BMW COMPAQ racing leather jacket   \n",
              "763          🔥Vintage BMW COMPAQ racing leather jacket   \n",
              "\n",
              "                                                  link  \\\n",
              "614  https://www.grailed.com/listings/22978330-bmw-...   \n",
              "732  https://www.grailed.com/listings/34236240-bmw-...   \n",
              "749  https://www.grailed.com/listings/28588866-bmw-...   \n",
              "760  https://www.grailed.com/listings/25372102-bmw-...   \n",
              "763  https://www.grailed.com/listings/22978101-bmw-...   \n",
              "\n",
              "                            size    condition                 color  \\\n",
              "614  Men's / US L / EU 52-54 / 3         Used             Navy blue   \n",
              "732    Men's / US XL / EU 56 / 4         Used          White / blue   \n",
              "749  Men's / US L / EU 52-54 / 3         Used          Black / blue   \n",
              "760  Men's / US L / EU 52-54 / 3  Gently Used  Black / white / blue   \n",
              "763  Men's / US S / EU 44-46 / 1         Used          White / blue   \n",
              "\n",
              "            seller_name                       designers  \\\n",
              "614  VintageRacingStuff          Bmw × Racing × Vintage   \n",
              "732  VintageRacingStuff  Bmw × Leather Jacket × Vintage   \n",
              "749  VintageRacingStuff          Bmw × Racing × Vintage   \n",
              "760  VintageRacingStuff                    Bmw × Racing   \n",
              "763  VintageRacingStuff  Bmw × Leather Jacket × Vintage   \n",
              "\n",
              "                                           description  num_of_photos  \\\n",
              "614  Vintage BMW light jacket / sweatshirt\\nSIZE:\\n...              8   \n",
              "732  Vintage BMW racing leather jacket\\nSIZE:\\nXXL ...             11   \n",
              "749  Vintage BMW racing leather jacket\\nSIZE:\\nL ,m...              8   \n",
              "760  Vintage BMW COMPAQ racing leather jacket\\nSIZE...             10   \n",
              "763  Vintage leather racing BMW jacket\\nSIZE:\\nS ,m...             14   \n",
              "\n",
              "     num_of_tags  measurements location  shipping_price price sold_price  \n",
              "614           10             1      NaN             NaN   NaN       $100  \n",
              "732           10             1      NaN             NaN   NaN       $190  \n",
              "749            0             1      NaN             NaN   NaN       $190  \n",
              "760            5             1      NaN             NaN   NaN       $185  \n",
              "763           10             1      NaN             NaN   NaN       $200  "
            ],
            "text/html": [
              "\n",
              "  <div id=\"df-b58a3d4c-381f-447b-a8d0-255678aa74ca\">\n",
              "    <div class=\"colab-df-container\">\n",
              "      <div>\n",
              "<style scoped>\n",
              "    .dataframe tbody tr th:only-of-type {\n",
              "        vertical-align: middle;\n",
              "    }\n",
              "\n",
              "    .dataframe tbody tr th {\n",
              "        vertical-align: top;\n",
              "    }\n",
              "\n",
              "    .dataframe thead th {\n",
              "        text-align: right;\n",
              "    }\n",
              "</style>\n",
              "<table border=\"1\" class=\"dataframe\">\n",
              "  <thead>\n",
              "    <tr style=\"text-align: right;\">\n",
              "      <th></th>\n",
              "      <th>title</th>\n",
              "      <th>link</th>\n",
              "      <th>size</th>\n",
              "      <th>condition</th>\n",
              "      <th>color</th>\n",
              "      <th>seller_name</th>\n",
              "      <th>designers</th>\n",
              "      <th>description</th>\n",
              "      <th>num_of_photos</th>\n",
              "      <th>num_of_tags</th>\n",
              "      <th>measurements</th>\n",
              "      <th>location</th>\n",
              "      <th>shipping_price</th>\n",
              "      <th>price</th>\n",
              "      <th>sold_price</th>\n",
              "    </tr>\n",
              "  </thead>\n",
              "  <tbody>\n",
              "    <tr>\n",
              "      <th>614</th>\n",
              "      <td>🔥Vintage BMW racing light jacket / sweatshirt</td>\n",
              "      <td>https://www.grailed.com/listings/22978330-bmw-...</td>\n",
              "      <td>Men's / US L / EU 52-54 / 3</td>\n",
              "      <td>Used</td>\n",
              "      <td>Navy blue</td>\n",
              "      <td>VintageRacingStuff</td>\n",
              "      <td>Bmw × Racing × Vintage</td>\n",
              "      <td>Vintage BMW light jacket / sweatshirt\\nSIZE:\\n...</td>\n",
              "      <td>8</td>\n",
              "      <td>10</td>\n",
              "      <td>1</td>\n",
              "      <td>NaN</td>\n",
              "      <td>NaN</td>\n",
              "      <td>NaN</td>\n",
              "      <td>$100</td>\n",
              "    </tr>\n",
              "    <tr>\n",
              "      <th>732</th>\n",
              "      <td>🔥Vintage BMW COMPAQ racing motorcycle leather ...</td>\n",
              "      <td>https://www.grailed.com/listings/34236240-bmw-...</td>\n",
              "      <td>Men's / US XL / EU 56 / 4</td>\n",
              "      <td>Used</td>\n",
              "      <td>White / blue</td>\n",
              "      <td>VintageRacingStuff</td>\n",
              "      <td>Bmw × Leather Jacket × Vintage</td>\n",
              "      <td>Vintage BMW racing leather jacket\\nSIZE:\\nXXL ...</td>\n",
              "      <td>11</td>\n",
              "      <td>10</td>\n",
              "      <td>1</td>\n",
              "      <td>NaN</td>\n",
              "      <td>NaN</td>\n",
              "      <td>NaN</td>\n",
              "      <td>$190</td>\n",
              "    </tr>\n",
              "    <tr>\n",
              "      <th>749</th>\n",
              "      <td>🔥Vintage BMW racing leather jacket</td>\n",
              "      <td>https://www.grailed.com/listings/28588866-bmw-...</td>\n",
              "      <td>Men's / US L / EU 52-54 / 3</td>\n",
              "      <td>Used</td>\n",
              "      <td>Black / blue</td>\n",
              "      <td>VintageRacingStuff</td>\n",
              "      <td>Bmw × Racing × Vintage</td>\n",
              "      <td>Vintage BMW racing leather jacket\\nSIZE:\\nL ,m...</td>\n",
              "      <td>8</td>\n",
              "      <td>0</td>\n",
              "      <td>1</td>\n",
              "      <td>NaN</td>\n",
              "      <td>NaN</td>\n",
              "      <td>NaN</td>\n",
              "      <td>$190</td>\n",
              "    </tr>\n",
              "    <tr>\n",
              "      <th>760</th>\n",
              "      <td>🔥Vintage BMW COMPAQ racing leather jacket</td>\n",
              "      <td>https://www.grailed.com/listings/25372102-bmw-...</td>\n",
              "      <td>Men's / US L / EU 52-54 / 3</td>\n",
              "      <td>Gently Used</td>\n",
              "      <td>Black / white / blue</td>\n",
              "      <td>VintageRacingStuff</td>\n",
              "      <td>Bmw × Racing</td>\n",
              "      <td>Vintage BMW COMPAQ racing leather jacket\\nSIZE...</td>\n",
              "      <td>10</td>\n",
              "      <td>5</td>\n",
              "      <td>1</td>\n",
              "      <td>NaN</td>\n",
              "      <td>NaN</td>\n",
              "      <td>NaN</td>\n",
              "      <td>$185</td>\n",
              "    </tr>\n",
              "    <tr>\n",
              "      <th>763</th>\n",
              "      <td>🔥Vintage BMW COMPAQ racing leather jacket</td>\n",
              "      <td>https://www.grailed.com/listings/22978101-bmw-...</td>\n",
              "      <td>Men's / US S / EU 44-46 / 1</td>\n",
              "      <td>Used</td>\n",
              "      <td>White / blue</td>\n",
              "      <td>VintageRacingStuff</td>\n",
              "      <td>Bmw × Leather Jacket × Vintage</td>\n",
              "      <td>Vintage leather racing BMW jacket\\nSIZE:\\nS ,m...</td>\n",
              "      <td>14</td>\n",
              "      <td>10</td>\n",
              "      <td>1</td>\n",
              "      <td>NaN</td>\n",
              "      <td>NaN</td>\n",
              "      <td>NaN</td>\n",
              "      <td>$200</td>\n",
              "    </tr>\n",
              "  </tbody>\n",
              "</table>\n",
              "</div>\n",
              "      <button class=\"colab-df-convert\" onclick=\"convertToInteractive('df-b58a3d4c-381f-447b-a8d0-255678aa74ca')\"\n",
              "              title=\"Convert this dataframe to an interactive table.\"\n",
              "              style=\"display:none;\">\n",
              "        \n",
              "  <svg xmlns=\"http://www.w3.org/2000/svg\" height=\"24px\"viewBox=\"0 0 24 24\"\n",
              "       width=\"24px\">\n",
              "    <path d=\"M0 0h24v24H0V0z\" fill=\"none\"/>\n",
              "    <path d=\"M18.56 5.44l.94 2.06.94-2.06 2.06-.94-2.06-.94-.94-2.06-.94 2.06-2.06.94zm-11 1L8.5 8.5l.94-2.06 2.06-.94-2.06-.94L8.5 2.5l-.94 2.06-2.06.94zm10 10l.94 2.06.94-2.06 2.06-.94-2.06-.94-.94-2.06-.94 2.06-2.06.94z\"/><path d=\"M17.41 7.96l-1.37-1.37c-.4-.4-.92-.59-1.43-.59-.52 0-1.04.2-1.43.59L10.3 9.45l-7.72 7.72c-.78.78-.78 2.05 0 2.83L4 21.41c.39.39.9.59 1.41.59.51 0 1.02-.2 1.41-.59l7.78-7.78 2.81-2.81c.8-.78.8-2.07 0-2.86zM5.41 20L4 18.59l7.72-7.72 1.47 1.35L5.41 20z\"/>\n",
              "  </svg>\n",
              "      </button>\n",
              "      \n",
              "  <style>\n",
              "    .colab-df-container {\n",
              "      display:flex;\n",
              "      flex-wrap:wrap;\n",
              "      gap: 12px;\n",
              "    }\n",
              "\n",
              "    .colab-df-convert {\n",
              "      background-color: #E8F0FE;\n",
              "      border: none;\n",
              "      border-radius: 50%;\n",
              "      cursor: pointer;\n",
              "      display: none;\n",
              "      fill: #1967D2;\n",
              "      height: 32px;\n",
              "      padding: 0 0 0 0;\n",
              "      width: 32px;\n",
              "    }\n",
              "\n",
              "    .colab-df-convert:hover {\n",
              "      background-color: #E2EBFA;\n",
              "      box-shadow: 0px 1px 2px rgba(60, 64, 67, 0.3), 0px 1px 3px 1px rgba(60, 64, 67, 0.15);\n",
              "      fill: #174EA6;\n",
              "    }\n",
              "\n",
              "    [theme=dark] .colab-df-convert {\n",
              "      background-color: #3B4455;\n",
              "      fill: #D2E3FC;\n",
              "    }\n",
              "\n",
              "    [theme=dark] .colab-df-convert:hover {\n",
              "      background-color: #434B5C;\n",
              "      box-shadow: 0px 1px 3px 1px rgba(0, 0, 0, 0.15);\n",
              "      filter: drop-shadow(0px 1px 2px rgba(0, 0, 0, 0.3));\n",
              "      fill: #FFFFFF;\n",
              "    }\n",
              "  </style>\n",
              "\n",
              "      <script>\n",
              "        const buttonEl =\n",
              "          document.querySelector('#df-b58a3d4c-381f-447b-a8d0-255678aa74ca button.colab-df-convert');\n",
              "        buttonEl.style.display =\n",
              "          google.colab.kernel.accessAllowed ? 'block' : 'none';\n",
              "\n",
              "        async function convertToInteractive(key) {\n",
              "          const element = document.querySelector('#df-b58a3d4c-381f-447b-a8d0-255678aa74ca');\n",
              "          const dataTable =\n",
              "            await google.colab.kernel.invokeFunction('convertToInteractive',\n",
              "                                                     [key], {});\n",
              "          if (!dataTable) return;\n",
              "\n",
              "          const docLinkHtml = 'Like what you see? Visit the ' +\n",
              "            '<a target=\"_blank\" href=https://colab.research.google.com/notebooks/data_table.ipynb>data table notebook</a>'\n",
              "            + ' to learn more about interactive tables.';\n",
              "          element.innerHTML = '';\n",
              "          dataTable['output_type'] = 'display_data';\n",
              "          await google.colab.output.renderOutput(dataTable, element);\n",
              "          const docLink = document.createElement('div');\n",
              "          docLink.innerHTML = docLinkHtml;\n",
              "          element.appendChild(docLink);\n",
              "        }\n",
              "      </script>\n",
              "    </div>\n",
              "  </div>\n",
              "  "
            ]
          },
          "metadata": {},
          "execution_count": 81
        }
      ]
    },
    {
      "cell_type": "code",
      "source": [
        "df.loc[df.seller_name == \"VintageRacingStuff\"].info()"
      ],
      "metadata": {
        "colab": {
          "base_uri": "https://localhost:8080/"
        },
        "id": "oOcTUuTTzR4Y",
        "outputId": "cbef4dd1-0ad9-4706-9d8b-40cd48ffbdf0"
      },
      "execution_count": 82,
      "outputs": [
        {
          "output_type": "stream",
          "name": "stdout",
          "text": [
            "<class 'pandas.core.frame.DataFrame'>\n",
            "Int64Index: 155 entries, 614 to 15747\n",
            "Data columns (total 15 columns):\n",
            " #   Column          Non-Null Count  Dtype  \n",
            "---  ------          --------------  -----  \n",
            " 0   title           155 non-null    object \n",
            " 1   link            155 non-null    object \n",
            " 2   size            155 non-null    object \n",
            " 3   condition       155 non-null    object \n",
            " 4   color           155 non-null    object \n",
            " 5   seller_name     155 non-null    object \n",
            " 6   designers       155 non-null    object \n",
            " 7   description     155 non-null    object \n",
            " 8   num_of_photos   155 non-null    int64  \n",
            " 9   num_of_tags     155 non-null    int64  \n",
            " 10  measurements    155 non-null    int64  \n",
            " 11  location        6 non-null      object \n",
            " 12  shipping_price  6 non-null      float64\n",
            " 13  price           6 non-null      object \n",
            " 14  sold_price      149 non-null    object \n",
            "dtypes: float64(1), int64(3), object(11)\n",
            "memory usage: 19.4+ KB\n"
          ]
        }
      ]
    },
    {
      "cell_type": "code",
      "source": [
        "df.loc[df.seller_name == \"VintageRacingStuff\"].location.unique()"
      ],
      "metadata": {
        "colab": {
          "base_uri": "https://localhost:8080/"
        },
        "id": "uO7Q_h7KzWhH",
        "outputId": "ffd8cdd7-ccf6-4ada-b11d-01e835915ca9"
      },
      "execution_count": 84,
      "outputs": [
        {
          "output_type": "execute_result",
          "data": {
            "text/plain": [
              "array([nan, 'Europe'], dtype=object)"
            ]
          },
          "metadata": {},
          "execution_count": 84
        }
      ]
    },
    {
      "cell_type": "code",
      "source": [
        "df.loc[df.seller_name == \"VintageRacingStuff\"].shipping_price.mean()"
      ],
      "metadata": {
        "colab": {
          "base_uri": "https://localhost:8080/"
        },
        "id": "CWOgenl6zjko",
        "outputId": "432a2fc0-b1c6-41f0-dba6-7a6616dfd157"
      },
      "execution_count": 85,
      "outputs": [
        {
          "output_type": "execute_result",
          "data": {
            "text/plain": [
              "58.0"
            ]
          },
          "metadata": {},
          "execution_count": 85
        }
      ]
    },
    {
      "cell_type": "code",
      "source": [],
      "metadata": {
        "id": "dGNVzHiTzq3s"
      },
      "execution_count": 86,
      "outputs": []
    },
    {
      "cell_type": "code",
      "source": [],
      "metadata": {
        "id": "wSddTaZAzxQX"
      },
      "execution_count": null,
      "outputs": []
    }
  ]
}